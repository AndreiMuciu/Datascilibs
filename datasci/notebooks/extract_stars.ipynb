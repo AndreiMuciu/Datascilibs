{
 "cells": [
  {
   "cell_type": "markdown",
   "id": "f772629d",
   "metadata": {},
   "source": [
    "# Extracție Istoric Stele\n",
    "\n",
    "Colectăm pentru fiecare stargazer data evenimentului, user și metadatele disponibile."
   ]
  },
  {
   "cell_type": "code",
   "execution_count": 1,
   "id": "65dc5dee-b96d-41c5-a911-cbafe286f9d3",
   "metadata": {},
   "outputs": [],
   "source": [
    "%run ./utils.ipynb"
   ]
  },
  {
   "cell_type": "code",
   "execution_count": 2,
   "id": "b9aab21d-586d-4c05-9536-4aeec0071663",
   "metadata": {},
   "outputs": [],
   "source": [
    "import pandas as pd"
   ]
  },
  {
   "cell_type": "code",
   "execution_count": 3,
   "id": "a47dd20d-b61b-490b-9442-f16f3d85f51b",
   "metadata": {},
   "outputs": [],
   "source": [
    "def extract_stars(repo_full_name: str, max_stars: int = None) -> pd.DataFrame:\n",
    "    \"\"\"\n",
    "    Extrage evenimentele de tip „star” pentru un repo.\n",
    "    - repo_full_name: 'owner/repo'\n",
    "    - max_stars: dacă nu e None, numărul maxim de intrări de extras\n",
    "    \"\"\"\n",
    "    repo  = gh.get_repo(repo_full_name)\n",
    "    rows  = []\n",
    "    count = 0\n",
    "\n",
    "    # get_stargazers_with_dates furnizează NamedTuples cu .user și .starred_at\n",
    "    for sg in repo.get_stargazers_with_dates():\n",
    "        if max_stars and count >= max_stars:\n",
    "            break\n",
    "        user = sg.user\n",
    "        rows.append({\n",
    "            \"repo_full_name\": repo_full_name,\n",
    "            \"user_login\":     user.login,\n",
    "            \"user_id\":        user.id,\n",
    "            \"starred_at\":     sg.starred_at.isoformat(),\n",
    "            \"user_type\":      user.type,\n",
    "            \"user_location\":  user.location,\n",
    "            \"user_company\":   user.company\n",
    "        })\n",
    "        count += 1\n",
    "\n",
    "    df = pd.DataFrame(rows)\n",
    "    folder = ensure_repo_folder(repo_full_name)\n",
    "    df.to_csv(folder / \"stars.csv\", index=False)\n",
    "    return df"
   ]
  },
  {
   "cell_type": "code",
   "execution_count": 4,
   "id": "2fdbb3f5-9f39-4bd8-9495-e69e409498b9",
   "metadata": {},
   "outputs": [
    {
     "name": "stdout",
     "output_type": "stream",
     "text": [
      "Primele 3 repo-uri: ['microsoft/ML-For-Beginners', 'apache/superset', 'keras-team/keras']\n"
     ]
    }
   ],
   "source": [
    "# Citește lista de repo-uri pentru test\n",
    "repos = read_repo_list(\"shallow_data.csv\")\n",
    "print(\"Primele 3 repo-uri:\", repos[:3])"
   ]
  },
  {
   "cell_type": "code",
   "execution_count": 5,
   "id": "1689ae70-1f65-4151-975e-e439e96a645e",
   "metadata": {},
   "outputs": [
    {
     "name": "stdout",
     "output_type": "stream",
     "text": [
      "Test shape: (20, 7)\n"
     ]
    },
    {
     "data": {
      "text/html": [
       "<div>\n",
       "<style scoped>\n",
       "    .dataframe tbody tr th:only-of-type {\n",
       "        vertical-align: middle;\n",
       "    }\n",
       "\n",
       "    .dataframe tbody tr th {\n",
       "        vertical-align: top;\n",
       "    }\n",
       "\n",
       "    .dataframe thead th {\n",
       "        text-align: right;\n",
       "    }\n",
       "</style>\n",
       "<table border=\"1\" class=\"dataframe\">\n",
       "  <thead>\n",
       "    <tr style=\"text-align: right;\">\n",
       "      <th></th>\n",
       "      <th>repo_full_name</th>\n",
       "      <th>user_login</th>\n",
       "      <th>user_id</th>\n",
       "      <th>starred_at</th>\n",
       "      <th>user_type</th>\n",
       "      <th>user_location</th>\n",
       "      <th>user_company</th>\n",
       "    </tr>\n",
       "  </thead>\n",
       "  <tbody>\n",
       "    <tr>\n",
       "      <th>0</th>\n",
       "      <td>microsoft/ML-For-Beginners</td>\n",
       "      <td>abhi-bhatra</td>\n",
       "      <td>63901956</td>\n",
       "      <td>2021-06-04T09:25:31+00:00</td>\n",
       "      <td>User</td>\n",
       "      <td>JAIPUR</td>\n",
       "      <td>@github</td>\n",
       "    </tr>\n",
       "    <tr>\n",
       "      <th>1</th>\n",
       "      <td>microsoft/ML-For-Beginners</td>\n",
       "      <td>paladique</td>\n",
       "      <td>1414307</td>\n",
       "      <td>2021-06-29T18:46:36+00:00</td>\n",
       "      <td>User</td>\n",
       "      <td>Brooklyn, NY</td>\n",
       "      <td>@Microsoft</td>\n",
       "    </tr>\n",
       "    <tr>\n",
       "      <th>2</th>\n",
       "      <td>microsoft/ML-For-Beginners</td>\n",
       "      <td>changhefirst</td>\n",
       "      <td>9982233</td>\n",
       "      <td>2021-06-30T00:23:38+00:00</td>\n",
       "      <td>User</td>\n",
       "      <td>None</td>\n",
       "      <td>None</td>\n",
       "    </tr>\n",
       "    <tr>\n",
       "      <th>3</th>\n",
       "      <td>microsoft/ML-For-Beginners</td>\n",
       "      <td>mrsmiles9</td>\n",
       "      <td>75179483</td>\n",
       "      <td>2021-06-30T04:36:04+00:00</td>\n",
       "      <td>User</td>\n",
       "      <td>Folscom</td>\n",
       "      <td>JB&amp;A</td>\n",
       "    </tr>\n",
       "    <tr>\n",
       "      <th>4</th>\n",
       "      <td>microsoft/ML-For-Beginners</td>\n",
       "      <td>tagazok</td>\n",
       "      <td>2637742</td>\n",
       "      <td>2021-06-30T05:55:15+00:00</td>\n",
       "      <td>User</td>\n",
       "      <td>Paris, France</td>\n",
       "      <td>@aws</td>\n",
       "    </tr>\n",
       "  </tbody>\n",
       "</table>\n",
       "</div>"
      ],
      "text/plain": [
       "               repo_full_name    user_login   user_id  \\\n",
       "0  microsoft/ML-For-Beginners   abhi-bhatra  63901956   \n",
       "1  microsoft/ML-For-Beginners     paladique   1414307   \n",
       "2  microsoft/ML-For-Beginners  changhefirst   9982233   \n",
       "3  microsoft/ML-For-Beginners     mrsmiles9  75179483   \n",
       "4  microsoft/ML-For-Beginners       tagazok   2637742   \n",
       "\n",
       "                  starred_at user_type  user_location user_company  \n",
       "0  2021-06-04T09:25:31+00:00      User         JAIPUR      @github  \n",
       "1  2021-06-29T18:46:36+00:00      User   Brooklyn, NY  @Microsoft   \n",
       "2  2021-06-30T00:23:38+00:00      User           None         None  \n",
       "3  2021-06-30T04:36:04+00:00      User        Folscom         JB&A  \n",
       "4  2021-06-30T05:55:15+00:00      User  Paris, France         @aws  "
      ]
     },
     "execution_count": 5,
     "metadata": {},
     "output_type": "execute_result"
    }
   ],
   "source": [
    "# Test extract_stars: primele 20 de evenimente de star pentru primul repo\n",
    "test_repo = repos[0]\n",
    "df_test = extract_stars(test_repo, max_stars=20)\n",
    "print(\"Test shape:\", df_test.shape)\n",
    "df_test.head()"
   ]
  },
  {
   "cell_type": "code",
   "execution_count": 6,
   "id": "e04a4aa1-7e69-4ba1-86e4-da60b0e829f0",
   "metadata": {},
   "outputs": [
    {
     "name": "stdout",
     "output_type": "stream",
     "text": [
      "[2025-05-11T13:36:28.083810] Stars → microsoft/ML-For-Beginners\n",
      "[2025-05-11T13:36:30.277050] Stars → apache/superset\n",
      "[2025-05-11T13:36:32.436224] Stars → keras-team/keras\n",
      "[2025-05-11T13:36:34.845006] Stars → scikit-learn/scikit-learn\n",
      "[2025-05-11T13:36:37.138748] Stars → pandas-dev/pandas\n",
      "[2025-05-11T13:36:39.186616] Stars → jakevdp/PythonDataScienceHandbook\n",
      "[2025-05-11T13:36:41.470102] Stars → apache/airflow\n",
      "[2025-05-11T13:36:43.590556] Stars → streamlit/streamlit\n",
      "[2025-05-11T13:36:45.783720] Stars → GokuMohandas/Made-With-ML\n",
      "[2025-05-11T13:36:47.848888] Stars → gradio-app/gradio\n",
      "[2025-05-11T13:36:49.924026] Stars → ray-project/ray\n",
      "[2025-05-11T13:36:52.027707] Stars → explosion/spaCy\n",
      "[2025-05-11T13:36:54.215647] Stars → AMAI-GmbH/AI-Expert-Roadmap\n",
      "[2025-05-11T13:36:56.524263] Stars → Lightning-AI/pytorch-lightning\n",
      "[2025-05-11T13:36:58.630122] Stars → microsoft/Data-Science-For-Beginners\n",
      "[2025-05-11T13:37:01.038707] Stars → donnemartin/data-science-ipython-notebooks\n",
      "[2025-05-11T13:37:03.080058] Stars → eugeneyan/applied-ml\n",
      "[2025-05-11T13:37:05.110432] Stars → CamDavidsonPilon/Probabilistic-Programming-and-Bayesian-Methods-for-Hackers\n",
      "[2025-05-11T13:37:07.192603] Stars → academic/awesome-datascience\n",
      "[2025-05-11T13:37:09.226443] Stars → d2l-ai/d2l-en\n",
      "[2025-05-11T13:37:11.331165] Stars → datasciencemasters/go\n",
      "[2025-05-11T13:37:13.369617] Stars → eriklindernoren/ML-From-Scratch\n",
      "[2025-05-11T13:37:15.347448] Stars → ashishpatel26/500-AI-Machine-learning-Deep-learning-Computer-vision-NLP-Projects-with-code\n",
      "[2025-05-11T13:37:17.396453] Stars → fastai/fastbook\n",
      "[2025-05-11T13:37:19.537367] Stars → plotly/dash\n",
      "[2025-05-11T13:37:21.738937] Stars → matplotlib/matplotlib\n",
      "[2025-05-11T13:37:23.878988] Stars → recommenders-team/recommenders\n",
      "[2025-05-11T13:37:26.026325] Stars → ml-tooling/best-of-ml-python\n",
      "[2025-05-11T13:37:28.056340] Stars → ossu/data-science\n",
      "[2025-05-11T13:37:30.121104] Stars → sinaptik-ai/pandas-ai\n",
      "[2025-05-11T13:37:32.061491] Stars → PrefectHQ/prefect\n",
      "[2025-05-11T13:37:34.091261] Stars → qax-os/excelize\n",
      "[2025-05-11T13:37:36.078042] Stars → afshinea/stanford-cs-229-machine-learning\n",
      "[2025-05-11T13:37:38.770280] Stars → Avaiga/taipy\n",
      "[2025-05-11T13:37:40.882446] Stars → dair-ai/ML-YouTube-Courses\n",
      "[2025-05-11T13:37:43.086743] Stars → ipython/ipython\n",
      "[2025-05-11T13:37:45.393153] Stars → piskvorky/gensim\n",
      "[2025-05-11T13:37:47.402037] Stars → bharathgs/Awesome-pytorch-list\n",
      "[2025-05-11T13:37:49.344323] Stars → FavioVazquez/ds-cheatsheets\n",
      "[2025-05-11T13:37:51.374019] Stars → stefan-jansen/machine-learning-for-trading\n",
      "[2025-05-11T13:37:53.422943] Stars → iterative/dvc\n",
      "[2025-05-11T13:37:55.459595] Stars → microsoft/nni\n",
      "[2025-05-11T13:37:57.858140] Stars → virgili0/Virgilio\n",
      "[2025-05-11T13:37:59.833269] Stars → oxnr/awesome-bigdata\n",
      "[2025-05-11T13:38:01.783270] Stars → visenger/awesome-mlops\n",
      "[2025-05-11T13:38:03.758594] Stars → mwaskom/seaborn\n",
      "[2025-05-11T13:38:05.765432] Stars → dagster-io/dagster\n",
      "[2025-05-11T13:38:07.874524] Stars → ydataai/ydata-profiling\n",
      "[2025-05-11T13:38:09.901020] Stars → marimo-team/marimo\n",
      "[2025-05-11T13:38:11.890445] Stars → rasbt/python-machine-learning-book\n"
     ]
    }
   ],
   "source": [
    "# Loop complet: extrage toate evenimentele de star pentru fiecare repo\n",
    "for full_name in repos:\n",
    "    log(f\"Stars → {full_name}\")\n",
    "    extract_stars(full_name, max_stars=2)"
   ]
  },
  {
   "cell_type": "code",
   "execution_count": null,
   "id": "9b5258d4-12ab-49b7-be88-29e5147574f6",
   "metadata": {},
   "outputs": [],
   "source": []
  }
 ],
 "metadata": {
  "kernelspec": {
   "display_name": "Python 3 (ipykernel)",
   "language": "python",
   "name": "python3"
  },
  "language_info": {
   "codemirror_mode": {
    "name": "ipython",
    "version": 3
   },
   "file_extension": ".py",
   "mimetype": "text/x-python",
   "name": "python",
   "nbconvert_exporter": "python",
   "pygments_lexer": "ipython3",
   "version": "3.10.16"
  }
 },
 "nbformat": 4,
 "nbformat_minor": 5
}
