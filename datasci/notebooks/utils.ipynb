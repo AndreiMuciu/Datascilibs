{
 "cells": [
  {
   "cell_type": "markdown",
   "id": "6a77840e",
   "metadata": {},
   "source": [
    "# Utilitare pentru extracția datelor\n",
    "\n",
    "Încarcă token-ul GitHub, citește lista de repo-uri și definește funcții comune."
   ]
  },
  {
   "cell_type": "code",
   "execution_count": 2,
   "id": "1f5b084b-6211-4172-9127-3310b53270fc",
   "metadata": {},
   "outputs": [],
   "source": [
    "import os\n",
    "from pathlib import Path\n",
    "from dotenv import load_dotenv\n",
    "import pandas as pd\n",
    "from github import Github\n",
    "from datetime import datetime\n",
    "\n",
    "# Încarcă .env (trebuie să existe în același folder cu notebook-ul)\n",
    "load_dotenv()\n",
    "# GH_TOKEN = os.getenv(\"GH_TOKEN\")\n",
    "GH_TOKEN = \"\"\n",
    "if not GH_TOKEN:\n",
    "    raise ValueError(\"Trebuie setat GH_TOKEN în .env\")\n",
    "gh = Github(GH_TOKEN)\n",
    "\n",
    "def read_repo_list(csv_path=\"shallow_data.csv\") -> list[str]:\n",
    "    \"\"\"\n",
    "    Încarcă CSV-ul cu lista de repo-uri și returnează full_name-urile unice.\n",
    "    \"\"\"\n",
    "    df = pd.read_csv(csv_path)\n",
    "    return df[\"full_name\"].dropna().unique().tolist()\n",
    "\n",
    "def ensure_repo_folder(full_name: str, base_dir=\"data/repos\") -> Path:\n",
    "    \"\"\"\n",
    "    Creează (dacă nu există) folderul data/repos/owner_repo\n",
    "    și returnează un Path către el.\n",
    "    \"\"\"\n",
    "    owner, repo = full_name.split(\"/\")\n",
    "    folder = Path(base_dir) / f\"{owner}_{repo}\"\n",
    "    folder.mkdir(parents=True, exist_ok=True)\n",
    "    return folder\n",
    "\n",
    "def log(msg: str):\n",
    "    \"\"\"Mesaj simplu cu timestamp UTC.\"\"\"\n",
    "    print(f\"[{datetime.utcnow().isoformat()}] {msg}\")"
   ]
  },
  {
   "cell_type": "code",
   "execution_count": null,
   "id": "a38310ca-fde5-4544-81bc-35ff893a5758",
   "metadata": {},
   "outputs": [],
   "source": []
  }
 ],
 "metadata": {
  "kernelspec": {
   "display_name": "Python 3 (ipykernel)",
   "language": "python",
   "name": "python3"
  },
  "language_info": {
   "codemirror_mode": {
    "name": "ipython",
    "version": 3
   },
   "file_extension": ".py",
   "mimetype": "text/x-python",
   "name": "python",
   "nbconvert_exporter": "python",
   "pygments_lexer": "ipython3",
   "version": "3.10.16"
  }
 },
 "nbformat": 4,
 "nbformat_minor": 5
}
