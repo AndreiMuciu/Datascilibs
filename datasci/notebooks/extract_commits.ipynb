{
 "cells": [
  {
   "cell_type": "markdown",
   "id": "13d855a7-dfa8-4d19-9ec2-e711155a8717",
   "metadata": {},
   "source": [
    "Extracție Commits"
   ]
  },
  {
   "cell_type": "markdown",
   "id": "28dfa370-11d5-40f4-a984-cd8b77bd3caa",
   "metadata": {},
   "source": [
    "Vom colecta pentru fiecare commit: sha, autor, date, LoC, etc."
   ]
  },
  {
   "cell_type": "code",
   "execution_count": null,
   "id": "4318d709-dbe3-4bc1-b8a7-32fb545f5abb",
   "metadata": {},
   "outputs": [],
   "source": [
    "%run ./utils.ipynb"
   ]
  },
  {
   "cell_type": "code",
   "execution_count": null,
   "id": "cf90503b-4db4-40d5-9e4c-79032f84ba16",
   "metadata": {},
   "outputs": [],
   "source": [
    "from github.GithubException import GithubException\n",
    "import pandas as pd"
   ]
  },
  {
   "cell_type": "code",
   "execution_count": null,
   "id": "fddb1312-4191-4733-8fe4-dc1b15f45ba4",
   "metadata": {},
   "outputs": [],
   "source": [
    "repos = read_repo_list()   # acum shallow_data.csv e în același folder\n",
    "print(f\"Am {len(repos)} repo-uri. Primele 5:\")\n",
    "print(repos[:5])"
   ]
  },
  {
   "cell_type": "code",
   "execution_count": null,
   "id": "0efa15d4-6ad4-4b1d-ad32-54df1a6abcb2",
   "metadata": {},
   "outputs": [],
   "source": [
    "# Test read_repo_list()\n",
    "repos = read_repo_list(csv_path=\"shallow_data.csv\")\n",
    "print(f\"Am {len(repos)} repo-uri. Primele 5:\", repos[:5])"
   ]
  },
  {
   "cell_type": "code",
   "execution_count": null,
   "id": "b258b01d-50a1-48f1-aa1d-0aeec11aa717",
   "metadata": {},
   "outputs": [],
   "source": [
    "# Test ensure_repo_folder()\n",
    "test_repo = repos[0]\n",
    "folder = ensure_repo_folder(test_repo)\n",
    "print(\"Folder creat pentru\", test_repo, \"→\", folder)"
   ]
  },
  {
   "cell_type": "markdown",
   "id": "61d90c4e-ece5-41dd-a6dc-de92ac1de037",
   "metadata": {},
   "source": [
    "Metoda pentru extragere de commits"
   ]
  },
  {
   "cell_type": "code",
   "execution_count": null,
   "id": "fadc6ea1-fc49-46b0-89e6-59aa2ed6f94a",
   "metadata": {},
   "outputs": [],
   "source": [
    "def extract_commits(repo_full_name, dest_folder, max_commits=None):\n",
    "    repo = gh.get_repo(repo_full_name)\n",
    "    rows = []\n",
    "    for i, commit in enumerate(repo.get_commits()):\n",
    "        if max_commits and i >= max_commits:\n",
    "            break\n",
    "        stats     = commit.stats\n",
    "        author    = commit.author\n",
    "        committer = commit.committer\n",
    "        rows.append({\n",
    "            \"repo_full_name\":    repo_full_name,\n",
    "            \"sha\":               commit.sha,\n",
    "            \"html_url\":          commit.html_url,\n",
    "            \"author_login\":      author.login    if author    else None,\n",
    "            \"author_id\":         author.id       if author    else None,\n",
    "            \"author_type\":       author.type     if author    else None,\n",
    "            \"authored_date\":     commit.commit.author.date.isoformat(),\n",
    "            \"committer_login\":   committer.login if committer else None,\n",
    "            \"committed_date\":    commit.commit.committer.date.isoformat(),\n",
    "            \"message\":           commit.commit.message,\n",
    "            \"additions\":         stats.additions,\n",
    "            \"deletions\":         stats.deletions,\n",
    "            \"total_changes\":     stats.total,\n",
    "            \"files_changed_count\": len(list(commit.files)),\n",
    "            \"parent_shas\":       \",\".join(p.sha for p in commit.parents)\n",
    "        })\n",
    "    df = pd.DataFrame(rows)\n",
    "    df.to_csv(dest_folder/\"commits.csv\", index=False)\n",
    "    return df"
   ]
  },
  {
   "cell_type": "code",
   "execution_count": null,
   "id": "aa9117de-8b4a-4046-88f9-d4bafb225af2",
   "metadata": {},
   "outputs": [],
   "source": [
    "# Test extract_commits pe un singur repo\n",
    "df_test = extract_commits(test_repo, folder, max_commits=10)\n",
    "print(\"Test shape:\", df_test.shape)\n",
    "df_test.head()"
   ]
  },
  {
   "cell_type": "code",
   "execution_count": null,
   "id": "ca2fdb61-cca3-444f-ac07-b2b2099d8a64",
   "metadata": {},
   "outputs": [],
   "source": [
    "for full_name in repos:\n",
    "    log(f\"Commits → {full_name}\")\n",
    "    folder = ensure_repo_folder(full_name)\n",
    "    extract_commits(full_name, folder)"
   ]
  }
 ],
 "metadata": {
  "kernelspec": {
   "display_name": "Python 3 (ipykernel)",
   "language": "python",
   "name": "python3"
  },
  "language_info": {
   "codemirror_mode": {
    "name": "ipython",
    "version": 3
   },
   "file_extension": ".py",
   "mimetype": "text/x-python",
   "name": "python",
   "nbconvert_exporter": "python",
   "pygments_lexer": "ipython3",
   "version": "3.10.16"
  }
 },
 "nbformat": 4,
 "nbformat_minor": 5
}
