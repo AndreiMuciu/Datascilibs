{
 "cells": [
  {
   "cell_type": "markdown",
   "id": "d9557ba4",
   "metadata": {},
   "source": [
    "# Extracție Issues\n",
    "\n",
    "Salvăm toate issues (open+closed): metadate, body, labels și reacții."
   ]
  },
  {
   "cell_type": "code",
   "execution_count": 1,
   "id": "96b66e95-96b6-436f-893e-b3c460273823",
   "metadata": {},
   "outputs": [],
   "source": [
    "%run ./utils.ipynb\n",
    "import pandas as pd"
   ]
  },
  {
   "cell_type": "code",
   "execution_count": 4,
   "id": "d8103515-162a-4efb-be0a-f5a9e289de78",
   "metadata": {},
   "outputs": [],
   "source": [
    "def extract_issues(repo_full_name: str, max_issues: int = None) -> pd.DataFrame:\n",
    "    repo = gh.get_repo(repo_full_name)\n",
    "    rows = []\n",
    "    for i, issue in enumerate(repo.get_issues(state=\"all\")):\n",
    "        if max_issues and i >= max_issues:\n",
    "            break\n",
    "        r = issue.raw_data.get(\"reactions\", {})\n",
    "        rows.append({\n",
    "            \"repo_full_name\":   repo_full_name,\n",
    "            \"issue_id\":         issue.id,\n",
    "            \"number\":           issue.number,\n",
    "            \"title\":            issue.title,\n",
    "            \"body\":             issue.body,\n",
    "            \"user_login\":       issue.user.login,\n",
    "            \"user_id\":          issue.user.id,\n",
    "            \"state\":            issue.state,\n",
    "            \"locked\":           issue.locked,\n",
    "            \"comments_count\":   issue.comments,\n",
    "            \"created_at\":       issue.created_at.isoformat(),\n",
    "            \"updated_at\":       issue.updated_at.isoformat(),\n",
    "            \"closed_at\":        issue.closed_at.isoformat() if issue.closed_at else None,\n",
    "            \"labels\":           \";\".join([lbl[\"name\"] for lbl in issue.raw_data.get(\"labels\", [])]),\n",
    "            \"reactions_total\":  r.get(\"total_count\", 0),\n",
    "            \"reactions_plus1\":  r.get(\"+1\", 0),\n",
    "            \"reactions_minus1\": r.get(\"-1\", 0),\n",
    "            \"reactions_laugh\":  r.get(\"laugh\", 0),\n",
    "            \"reactions_hooray\": r.get(\"hooray\", 0),\n",
    "            \"reactions_confused\": r.get(\"confused\", 0),\n",
    "            \"reactions_heart\":  r.get(\"heart\", 0)\n",
    "        })\n",
    "    df = pd.DataFrame(rows)\n",
    "    folder = ensure_repo_folder(repo_full_name)\n",
    "    df.to_csv(folder / \"issues.csv\", index=False)\n",
    "    return df"
   ]
  },
  {
   "cell_type": "code",
   "execution_count": 5,
   "id": "bd9b8fe4-1667-4cbf-a2dc-36cbb62922d9",
   "metadata": {},
   "outputs": [
    {
     "name": "stdout",
     "output_type": "stream",
     "text": [
      "[2025-05-11T13:23:21.881348] Issues → microsoft/ML-For-Beginners\n",
      "[2025-05-11T13:23:24.663521] Issues → apache/superset\n",
      "[2025-05-11T13:23:27.174211] Issues → keras-team/keras\n",
      "[2025-05-11T13:23:29.580701] Issues → scikit-learn/scikit-learn\n",
      "[2025-05-11T13:23:31.792632] Issues → pandas-dev/pandas\n",
      "[2025-05-11T13:23:34.096996] Issues → jakevdp/PythonDataScienceHandbook\n",
      "[2025-05-11T13:23:36.504742] Issues → apache/airflow\n",
      "[2025-05-11T13:23:39.015404] Issues → streamlit/streamlit\n",
      "[2025-05-11T13:23:41.321777] Issues → GokuMohandas/Made-With-ML\n",
      "[2025-05-11T13:23:43.633731] Issues → gradio-app/gradio\n",
      "[2025-05-11T13:23:46.040812] Issues → ray-project/ray\n",
      "[2025-05-11T13:23:48.248587] Issues → explosion/spaCy\n",
      "[2025-05-11T13:23:50.554479] Issues → AMAI-GmbH/AI-Expert-Roadmap\n",
      "[2025-05-11T13:23:52.862549] Issues → Lightning-AI/pytorch-lightning\n",
      "[2025-05-11T13:23:55.271275] Issues → microsoft/Data-Science-For-Beginners\n",
      "[2025-05-11T13:23:58.584579] Issues → donnemartin/data-science-ipython-notebooks\n",
      "[2025-05-11T13:24:00.891174] Issues → eugeneyan/applied-ml\n",
      "[2025-05-11T13:24:03.098175] Issues → CamDavidsonPilon/Probabilistic-Programming-and-Bayesian-Methods-for-Hackers\n",
      "[2025-05-11T13:24:05.305751] Issues → academic/awesome-datascience\n",
      "[2025-05-11T13:24:07.714685] Issues → d2l-ai/d2l-en\n",
      "[2025-05-11T13:24:10.026316] Issues → datasciencemasters/go\n",
      "[2025-05-11T13:24:12.333028] Issues → eriklindernoren/ML-From-Scratch\n",
      "[2025-05-11T13:24:14.539032] Issues → ashishpatel26/500-AI-Machine-learning-Deep-learning-Computer-vision-NLP-Projects-with-code\n",
      "[2025-05-11T13:24:16.743892] Issues → fastai/fastbook\n",
      "[2025-05-11T13:24:19.154357] Issues → plotly/dash\n",
      "[2025-05-11T13:24:21.563235] Issues → matplotlib/matplotlib\n",
      "[2025-05-11T13:24:23.973704] Issues → recommenders-team/recommenders\n",
      "[2025-05-11T13:24:26.257870] Issues → ml-tooling/best-of-ml-python\n",
      "[2025-05-11T13:24:28.487700] Issues → ossu/data-science\n",
      "[2025-05-11T13:24:30.696713] Issues → sinaptik-ai/pandas-ai\n",
      "[2025-05-11T13:24:33.037437] Issues → PrefectHQ/prefect\n",
      "[2025-05-11T13:24:35.511994] Issues → qax-os/excelize\n",
      "[2025-05-11T13:24:37.923274] Issues → afshinea/stanford-cs-229-machine-learning\n",
      "[2025-05-11T13:24:40.133636] Issues → Avaiga/taipy\n",
      "[2025-05-11T13:24:42.541095] Issues → dair-ai/ML-YouTube-Courses\n",
      "[2025-05-11T13:24:44.844867] Issues → ipython/ipython\n",
      "[2025-05-11T13:24:47.151856] Issues → piskvorky/gensim\n",
      "[2025-05-11T13:24:49.462914] Issues → bharathgs/Awesome-pytorch-list\n",
      "[2025-05-11T13:24:51.644878] Issues → FavioVazquez/ds-cheatsheets\n",
      "[2025-05-11T13:24:53.877777] Issues → stefan-jansen/machine-learning-for-trading\n",
      "[2025-05-11T13:24:56.186586] Issues → iterative/dvc\n",
      "[2025-05-11T13:24:58.594094] Issues → microsoft/nni\n",
      "[2025-05-11T13:25:01.705576] Issues → virgili0/Virgilio\n",
      "[2025-05-11T13:25:04.018007] Issues → oxnr/awesome-bigdata\n",
      "[2025-05-11T13:25:06.424086] Issues → visenger/awesome-mlops\n",
      "[2025-05-11T13:25:08.627260] Issues → mwaskom/seaborn\n",
      "[2025-05-11T13:25:10.936841] Issues → dagster-io/dagster\n",
      "[2025-05-11T13:25:13.443144] Issues → ydataai/ydata-profiling\n",
      "[2025-05-11T13:25:15.853310] Issues → marimo-team/marimo\n",
      "[2025-05-11T13:25:18.161804] Issues → rasbt/python-machine-learning-book\n"
     ]
    }
   ],
   "source": [
    "# Rulează extracția pe toate repo-urile\n",
    "repos = read_repo_list(\"shallow_data.csv\")\n",
    "for full_name in repos:\n",
    "    log(f\"Issues → {full_name}\")\n",
    "    extract_issues(full_name, max_issues=2)"
   ]
  },
  {
   "cell_type": "code",
   "execution_count": 3,
   "id": "63a2d4b0-01ca-4da9-b516-dff7e0ade0e1",
   "metadata": {},
   "outputs": [
    {
     "name": "stdout",
     "output_type": "stream",
     "text": [
      "s\n"
     ]
    }
   ],
   "source": [
    "print(\"s\")"
   ]
  },
  {
   "cell_type": "code",
   "execution_count": null,
   "id": "ab92ab47-5f79-4673-aea5-043086d638d7",
   "metadata": {},
   "outputs": [],
   "source": []
  }
 ],
 "metadata": {
  "kernelspec": {
   "display_name": "Python 3 (ipykernel)",
   "language": "python",
   "name": "python3"
  },
  "language_info": {
   "codemirror_mode": {
    "name": "ipython",
    "version": 3
   },
   "file_extension": ".py",
   "mimetype": "text/x-python",
   "name": "python",
   "nbconvert_exporter": "python",
   "pygments_lexer": "ipython3",
   "version": "3.10.16"
  }
 },
 "nbformat": 4,
 "nbformat_minor": 5
}
