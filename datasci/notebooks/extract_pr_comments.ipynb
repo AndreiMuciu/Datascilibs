{
 "cells": [
  {
   "cell_type": "markdown",
   "id": "93d48d04",
   "metadata": {},
   "source": [
    "# Extracție Comentarii PR\n",
    "\n",
    "Salvăm atât comentarii de tip issue-like, cât și cele de review (diff hunk, path etc.)."
   ]
  },
  {
   "cell_type": "code",
   "execution_count": 2,
   "id": "1e6283cd-8e98-4308-88e5-9780323f2b81",
   "metadata": {},
   "outputs": [],
   "source": [
    "%run ./utils.ipynb"
   ]
  },
  {
   "cell_type": "code",
   "execution_count": 3,
   "id": "f31f06f4-8edf-4cf2-a6f8-0d2fd43e4676",
   "metadata": {},
   "outputs": [],
   "source": [
    "import pandas as pd"
   ]
  },
  {
   "cell_type": "code",
   "execution_count": 4,
   "id": "6ca8b281-4eda-4d1d-9db8-7532834a781a",
   "metadata": {},
   "outputs": [],
   "source": [
    "def extract_pr_comments(repo_full_name: str,\n",
    "                        max_comments: int = None) -> pd.DataFrame:\n",
    "    \"\"\"\n",
    "    Extrage comentariile pentru PR-uri:\n",
    "      - comentarii issue-like și review comments\n",
    "      - max_comments: dacă nu e None, limită totală de comentarii extrase\n",
    "    \"\"\"\n",
    "    repo  = gh.get_repo(repo_full_name)\n",
    "    rows  = []\n",
    "    count = 0\n",
    "\n",
    "    # Parcurgem fiecare PR\n",
    "    for pr in repo.get_pulls(state=\"all\"):\n",
    "        # Comentarii issue-like\n",
    "        for c in pr.get_comments():\n",
    "            if max_comments and count >= max_comments:\n",
    "                break\n",
    "            r = c.raw_data.get(\"reactions\", {})\n",
    "            rows.append({\n",
    "                \"repo_full_name\":     repo_full_name,\n",
    "                \"pr_id\":              pr.id,\n",
    "                \"comment_id\":         c.id,\n",
    "                \"user_login\":         c.user.login,\n",
    "                \"user_id\":            c.user.id,\n",
    "                \"created_at\":         c.created_at.isoformat(),\n",
    "                \"updated_at\":         c.updated_at.isoformat(),\n",
    "                \"body\":               c.body,\n",
    "                \"is_review_comment\":  False,\n",
    "                \"path\":               None,\n",
    "                \"position\":           None,\n",
    "                \"diff_hunk\":          None,\n",
    "                \"reactions_total\":    r.get(\"total_count\", 0),\n",
    "                \"reactions_plus1\":    r.get(\"+1\", 0),\n",
    "                \"reactions_minus1\":   r.get(\"-1\", 0),\n",
    "                \"reactions_laugh\":    r.get(\"laugh\", 0),\n",
    "                \"reactions_hooray\":   r.get(\"hooray\", 0),\n",
    "                \"reactions_confused\": r.get(\"confused\", 0),\n",
    "                \"reactions_heart\":    r.get(\"heart\", 0)\n",
    "            })\n",
    "            count += 1\n",
    "        if max_comments and count >= max_comments:\n",
    "            break\n",
    "\n",
    "        # Comentarii de tip review\n",
    "        for rc in pr.get_review_comments():\n",
    "            if max_comments and count >= max_comments:\n",
    "                break\n",
    "            r = rc.raw_data.get(\"reactions\", {})\n",
    "            rows.append({\n",
    "                \"repo_full_name\":     repo_full_name,\n",
    "                \"pr_id\":              pr.id,\n",
    "                \"comment_id\":         rc.id,\n",
    "                \"user_login\":         rc.user.login,\n",
    "                \"user_id\":            rc.user.id,\n",
    "                \"created_at\":         rc.created_at.isoformat(),\n",
    "                \"updated_at\":         rc.updated_at.isoformat(),\n",
    "                \"body\":               rc.body,\n",
    "                \"is_review_comment\":  True,\n",
    "                \"path\":               rc.path,\n",
    "                \"position\":           rc.position,\n",
    "                \"diff_hunk\":          rc.diff_hunk,\n",
    "                \"reactions_total\":    r.get(\"total_count\", 0),\n",
    "                \"reactions_plus1\":    r.get(\"+1\", 0),\n",
    "                \"reactions_minus1\":   r.get(\"-1\", 0),\n",
    "                \"reactions_laugh\":    r.get(\"laugh\", 0),\n",
    "                \"reactions_hooray\":   r.get(\"hooray\", 0),\n",
    "                \"reactions_confused\": r.get(\"confused\", 0),\n",
    "                \"reactions_heart\":    r.get(\"heart\", 0)\n",
    "            })\n",
    "            count += 1\n",
    "        if max_comments and count >= max_comments:\n",
    "            break\n",
    "\n",
    "    df = pd.DataFrame(rows)\n",
    "    folder = ensure_repo_folder(repo_full_name)\n",
    "    df.to_csv(folder / \"pr_comments.csv\", index=False)\n",
    "    return df"
   ]
  },
  {
   "cell_type": "code",
   "execution_count": 5,
   "id": "2f35a89c-a11d-48cb-9f7c-fdc5b84ece62",
   "metadata": {},
   "outputs": [
    {
     "name": "stdout",
     "output_type": "stream",
     "text": [
      "Primele 3 repo-uri: ['microsoft/ML-For-Beginners', 'apache/superset', 'keras-team/keras']\n"
     ]
    }
   ],
   "source": [
    "# Citește lista de repo-uri\n",
    "repos = read_repo_list(\"shallow_data.csv\")\n",
    "print(\"Primele 3 repo-uri:\", repos[:3])"
   ]
  },
  {
   "cell_type": "code",
   "execution_count": null,
   "id": "9b1e7d8e-b0d8-4d36-95a3-83db312abb07",
   "metadata": {},
   "outputs": [],
   "source": [
    "# Test: extragem primele 20 de comentarii PR pentru primul repo\n",
    "test_repo = repos[0]\n",
    "df_test = extract_pr_comments(test_repo, max_comments=20)\n",
    "print(\"Test shape:\", df_test.shape)\n",
    "df_test.head()"
   ]
  },
  {
   "cell_type": "code",
   "execution_count": null,
   "id": "425d1612-418c-4e86-8cef-20dc8554022b",
   "metadata": {},
   "outputs": [
    {
     "name": "stdout",
     "output_type": "stream",
     "text": [
      "[2025-05-11T22:12:11.156039] PR comments → microsoft/ML-For-Beginners\n"
     ]
    }
   ],
   "source": [
    "# Loop complet: toate PR-comments pentru fiecare repo\n",
    "for full_name in repos:\n",
    "    log(f\"PR comments → {full_name}\")\n",
    "    extract_pr_comments(full_name, max_comments=2)\n",
    "    "
   ]
  },
  {
   "cell_type": "code",
   "execution_count": null,
   "id": "7f9afd99-569a-46ee-a68e-9ec4f26fb597",
   "metadata": {},
   "outputs": [],
   "source": []
  }
 ],
 "metadata": {
  "kernelspec": {
   "display_name": "Python 3 (ipykernel)",
   "language": "python",
   "name": "python3"
  },
  "language_info": {
   "codemirror_mode": {
    "name": "ipython",
    "version": 3
   },
   "file_extension": ".py",
   "mimetype": "text/x-python",
   "name": "python",
   "nbconvert_exporter": "python",
   "pygments_lexer": "ipython3",
   "version": "3.10.16"
  }
 },
 "nbformat": 4,
 "nbformat_minor": 5
}
